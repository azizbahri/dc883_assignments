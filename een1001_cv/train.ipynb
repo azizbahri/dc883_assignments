{
 "cells": [
  {
   "cell_type": "markdown",
   "metadata": {},
   "source": [
    "#EEN1001 Computer Vision Assignment 24/25 "
   ]
  },
  {
   "cell_type": "code",
   "execution_count": null,
   "metadata": {},
   "outputs": [],
   "source": [
    "print(\"helloworld\")"
   ]
  }
 ],
 "metadata": {
  "kernelspec": {
   "display_name": "dcu_ml",
   "language": "python",
   "name": "python3"
  },
  "language_info": {
   "name": "python",
   "version": "3.13.1"
  }
 },
 "nbformat": 4,
 "nbformat_minor": 2
}
